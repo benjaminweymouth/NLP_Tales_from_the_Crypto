{
 "cells": [
  {
   "cell_type": "markdown",
   "metadata": {},
   "source": [
    "# Unit 12 - Tales from the Crypto\n",
    "\n",
    "---\n"
   ]
  },
  {
   "cell_type": "markdown",
   "metadata": {},
   "source": [
    "## 1. Sentiment Analysis\n",
    "\n",
    "Use the [newsapi](https://newsapi.org/) to pull the latest news articles for Bitcoin and Ethereum and create a DataFrame of sentiment scores for each coin.\n",
    "\n",
    "Use descriptive statistics to answer the following questions:\n",
    "1. Which coin had the highest mean positive score?\n",
    "2. Which coin had the highest negative score?\n",
    "3. Which coin had the highest positive score?"
   ]
  },
  {
   "cell_type": "code",
   "execution_count": 1,
   "metadata": {},
   "outputs": [
    {
     "name": "stderr",
     "output_type": "stream",
     "text": [
      "[nltk_data] Downloading package vader_lexicon to\n",
      "[nltk_data]     C:\\Users\\benja\\AppData\\Roaming\\nltk_data...\n",
      "[nltk_data]   Package vader_lexicon is already up-to-date!\n"
     ]
    }
   ],
   "source": [
    "# Initial imports\n",
    "import os\n",
    "import pandas as pd\n",
    "from dotenv import load_dotenv\n",
    "import nltk as nltk\n",
    "nltk.download('vader_lexicon')\n",
    "from nltk.sentiment.vader import SentimentIntensityAnalyzer\n",
    "analyzer = SentimentIntensityAnalyzer()\n",
    "from path import Path\n",
    "from newsapi import NewsApiClient\n",
    "import spacy\n",
    "from spacy import displacy\n",
    "\n",
    "%matplotlib inline"
   ]
  },
  {
   "cell_type": "code",
   "execution_count": 2,
   "metadata": {},
   "outputs": [],
   "source": [
    "# Read your api key environment variable\n",
    "# Load environment variables and retrieve the News API key\n",
    "load_dotenv()\n",
    "api_key = os.getenv(\"NEWS_API_KEY\")"
   ]
  },
  {
   "cell_type": "code",
   "execution_count": 3,
   "metadata": {},
   "outputs": [],
   "source": [
    "# Create the newsapi client\n",
    "newsapi = NewsApiClient(api_key=api_key)"
   ]
  },
  {
   "cell_type": "code",
   "execution_count": 4,
   "metadata": {},
   "outputs": [],
   "source": [
    "nlp = spacy.load('en_core_web_sm')"
   ]
  },
  {
   "cell_type": "code",
   "execution_count": 5,
   "metadata": {},
   "outputs": [
    {
     "data": {
      "text/plain": [
       "8521"
      ]
     },
     "execution_count": 5,
     "metadata": {},
     "output_type": "execute_result"
    }
   ],
   "source": [
    "# Fetch the Bitcoin news articles\n",
    "bitcoin_news_en = newsapi.get_everything(\n",
    "    q=\"bitcoin\",\n",
    "    language=\"en\"\n",
    ")\n",
    "\n",
    "# Show the total number of news\n",
    "bitcoin_news_en[\"totalResults\"]"
   ]
  },
  {
   "cell_type": "code",
   "execution_count": 6,
   "metadata": {},
   "outputs": [
    {
     "data": {
      "text/plain": [
       "2934"
      ]
     },
     "execution_count": 6,
     "metadata": {},
     "output_type": "execute_result"
    }
   ],
   "source": [
    "# Fetch the Bitcoin news articles\n",
    "ethereum_news_en = newsapi.get_everything(\n",
    "    q=\"ethereum\",\n",
    "    language=\"en\"\n",
    ")\n",
    "\n",
    "# Show the total number of news\n",
    "ethereum_news_en[\"totalResults\"]"
   ]
  },
  {
   "cell_type": "code",
   "execution_count": 7,
   "metadata": {},
   "outputs": [
    {
     "data": {
      "text/html": [
       "<div>\n",
       "<style scoped>\n",
       "    .dataframe tbody tr th:only-of-type {\n",
       "        vertical-align: middle;\n",
       "    }\n",
       "\n",
       "    .dataframe tbody tr th {\n",
       "        vertical-align: top;\n",
       "    }\n",
       "\n",
       "    .dataframe thead th {\n",
       "        text-align: right;\n",
       "    }\n",
       "</style>\n",
       "<table border=\"1\" class=\"dataframe\">\n",
       "  <thead>\n",
       "    <tr style=\"text-align: right;\">\n",
       "      <th></th>\n",
       "      <th>date</th>\n",
       "      <th>text</th>\n",
       "      <th>compound</th>\n",
       "      <th>positive</th>\n",
       "      <th>negative</th>\n",
       "      <th>neutral</th>\n",
       "    </tr>\n",
       "  </thead>\n",
       "  <tbody>\n",
       "    <tr>\n",
       "      <th>0</th>\n",
       "      <td>2021-11-05</td>\n",
       "      <td>A similar hoax earlier this year tied Walmart ...</td>\n",
       "      <td>-0.2732</td>\n",
       "      <td>0.000</td>\n",
       "      <td>0.063</td>\n",
       "      <td>0.937</td>\n",
       "    </tr>\n",
       "    <tr>\n",
       "      <th>1</th>\n",
       "      <td>2021-10-10</td>\n",
       "      <td>Specifically, why did someone make a massive p...</td>\n",
       "      <td>0.5461</td>\n",
       "      <td>0.121</td>\n",
       "      <td>0.000</td>\n",
       "      <td>0.879</td>\n",
       "    </tr>\n",
       "    <tr>\n",
       "      <th>2</th>\n",
       "      <td>2021-10-28</td>\n",
       "      <td>Theres a big new presence slurping up power fr...</td>\n",
       "      <td>0.3612</td>\n",
       "      <td>0.096</td>\n",
       "      <td>0.000</td>\n",
       "      <td>0.904</td>\n",
       "    </tr>\n",
       "    <tr>\n",
       "      <th>3</th>\n",
       "      <td>2021-10-26</td>\n",
       "      <td>For all the talk of democratizing finance, the...</td>\n",
       "      <td>0.0000</td>\n",
       "      <td>0.000</td>\n",
       "      <td>0.000</td>\n",
       "      <td>1.000</td>\n",
       "    </tr>\n",
       "    <tr>\n",
       "      <th>4</th>\n",
       "      <td>2021-10-21</td>\n",
       "      <td>Representation of cryptocurrency Bitcoin is pl...</td>\n",
       "      <td>0.0000</td>\n",
       "      <td>0.000</td>\n",
       "      <td>0.000</td>\n",
       "      <td>1.000</td>\n",
       "    </tr>\n",
       "  </tbody>\n",
       "</table>\n",
       "</div>"
      ],
      "text/plain": [
       "         date                                               text  compound  \\\n",
       "0  2021-11-05  A similar hoax earlier this year tied Walmart ...   -0.2732   \n",
       "1  2021-10-10  Specifically, why did someone make a massive p...    0.5461   \n",
       "2  2021-10-28  Theres a big new presence slurping up power fr...    0.3612   \n",
       "3  2021-10-26  For all the talk of democratizing finance, the...    0.0000   \n",
       "4  2021-10-21  Representation of cryptocurrency Bitcoin is pl...    0.0000   \n",
       "\n",
       "   positive  negative  neutral  \n",
       "0     0.000     0.063    0.937  \n",
       "1     0.121     0.000    0.879  \n",
       "2     0.096     0.000    0.904  \n",
       "3     0.000     0.000    1.000  \n",
       "4     0.000     0.000    1.000  "
      ]
     },
     "execution_count": 7,
     "metadata": {},
     "output_type": "execute_result"
    }
   ],
   "source": [
    "# Create the Bitcoin sentiment scores DataFrame\n",
    "\n",
    "#create list for Bitcoin sentiment analysis\n",
    "bitcoin_sentiments = []\n",
    "\n",
    "for article in bitcoin_news_en[\"articles\"]:\n",
    "    try:\n",
    "        text = article[\"content\"]\n",
    "        date = article[\"publishedAt\"][:10]\n",
    "        sentiment = analyzer.polarity_scores(text)\n",
    "        compound = sentiment[\"compound\"]\n",
    "        pos = sentiment[\"pos\"]\n",
    "        neu = sentiment[\"neu\"]\n",
    "        neg = sentiment[\"neg\"]\n",
    "        \n",
    "        bitcoin_sentiments.append({\n",
    "            \"text\": text,\n",
    "            \"date\": date,\n",
    "            \"compound\": compound,\n",
    "            \"positive\": pos,\n",
    "            \"negative\": neg,\n",
    "            \"neutral\": neu\n",
    "            \n",
    "        })\n",
    "        \n",
    "    except AttributeError:\n",
    "        pass\n",
    "    \n",
    "# Create DataFrame\n",
    "bitcoin_df = pd.DataFrame(bitcoin_sentiments)\n",
    "\n",
    "# Reorder DataFrame columns\n",
    "cols = [\"date\", \"text\", \"compound\", \"positive\", \"negative\", \"neutral\"]\n",
    "bitcoin_df = bitcoin_df[cols]\n",
    "\n",
    "bitcoin_df.head()"
   ]
  },
  {
   "cell_type": "code",
   "execution_count": 8,
   "metadata": {},
   "outputs": [
    {
     "data": {
      "text/html": [
       "<div>\n",
       "<style scoped>\n",
       "    .dataframe tbody tr th:only-of-type {\n",
       "        vertical-align: middle;\n",
       "    }\n",
       "\n",
       "    .dataframe tbody tr th {\n",
       "        vertical-align: top;\n",
       "    }\n",
       "\n",
       "    .dataframe thead th {\n",
       "        text-align: right;\n",
       "    }\n",
       "</style>\n",
       "<table border=\"1\" class=\"dataframe\">\n",
       "  <thead>\n",
       "    <tr style=\"text-align: right;\">\n",
       "      <th></th>\n",
       "      <th>date</th>\n",
       "      <th>text</th>\n",
       "      <th>compound</th>\n",
       "      <th>positive</th>\n",
       "      <th>negative</th>\n",
       "      <th>neutral</th>\n",
       "    </tr>\n",
       "  </thead>\n",
       "  <tbody>\n",
       "    <tr>\n",
       "      <th>0</th>\n",
       "      <td>2021-10-16</td>\n",
       "      <td>A new cross-chain bridge is currently connecte...</td>\n",
       "      <td>0.0000</td>\n",
       "      <td>0.000</td>\n",
       "      <td>0.0</td>\n",
       "      <td>1.000</td>\n",
       "    </tr>\n",
       "    <tr>\n",
       "      <th>1</th>\n",
       "      <td>2021-10-14</td>\n",
       "      <td>Mark Cuban has some advice for people who are ...</td>\n",
       "      <td>0.0000</td>\n",
       "      <td>0.000</td>\n",
       "      <td>0.0</td>\n",
       "      <td>1.000</td>\n",
       "    </tr>\n",
       "    <tr>\n",
       "      <th>2</th>\n",
       "      <td>2021-11-05</td>\n",
       "      <td>Ethereum and bitcoin are the two biggest crypt...</td>\n",
       "      <td>0.4588</td>\n",
       "      <td>0.094</td>\n",
       "      <td>0.0</td>\n",
       "      <td>0.906</td>\n",
       "    </tr>\n",
       "    <tr>\n",
       "      <th>3</th>\n",
       "      <td>2021-11-01</td>\n",
       "      <td>Elon Musk\\r\\npicture alliance / Getty Images\\r...</td>\n",
       "      <td>0.5267</td>\n",
       "      <td>0.093</td>\n",
       "      <td>0.0</td>\n",
       "      <td>0.907</td>\n",
       "    </tr>\n",
       "    <tr>\n",
       "      <th>4</th>\n",
       "      <td>2021-11-01</td>\n",
       "      <td>Cryptocurrency and business continuity line im...</td>\n",
       "      <td>0.4588</td>\n",
       "      <td>0.097</td>\n",
       "      <td>0.0</td>\n",
       "      <td>0.903</td>\n",
       "    </tr>\n",
       "  </tbody>\n",
       "</table>\n",
       "</div>"
      ],
      "text/plain": [
       "         date                                               text  compound  \\\n",
       "0  2021-10-16  A new cross-chain bridge is currently connecte...    0.0000   \n",
       "1  2021-10-14  Mark Cuban has some advice for people who are ...    0.0000   \n",
       "2  2021-11-05  Ethereum and bitcoin are the two biggest crypt...    0.4588   \n",
       "3  2021-11-01  Elon Musk\\r\\npicture alliance / Getty Images\\r...    0.5267   \n",
       "4  2021-11-01  Cryptocurrency and business continuity line im...    0.4588   \n",
       "\n",
       "   positive  negative  neutral  \n",
       "0     0.000       0.0    1.000  \n",
       "1     0.000       0.0    1.000  \n",
       "2     0.094       0.0    0.906  \n",
       "3     0.093       0.0    0.907  \n",
       "4     0.097       0.0    0.903  "
      ]
     },
     "execution_count": 8,
     "metadata": {},
     "output_type": "execute_result"
    }
   ],
   "source": [
    "# Create the Ethereum sentiment scores DataFrame\n",
    "\n",
    "#create list for ETH sentiment analysis\n",
    "ethereum_sentiments = []\n",
    "\n",
    "for article in ethereum_news_en[\"articles\"]:\n",
    "    try:\n",
    "        text = article[\"content\"]\n",
    "        date = article[\"publishedAt\"][:10]\n",
    "        sentiment = analyzer.polarity_scores(text)\n",
    "        compound = sentiment[\"compound\"]\n",
    "        pos = sentiment[\"pos\"]\n",
    "        neu = sentiment[\"neu\"]\n",
    "        neg = sentiment[\"neg\"]\n",
    "        \n",
    "        ethereum_sentiments.append({\n",
    "            \"text\": text,\n",
    "            \"date\": date,\n",
    "            \"compound\": compound,\n",
    "            \"positive\": pos,\n",
    "            \"negative\": neg,\n",
    "            \"neutral\": neu\n",
    "            \n",
    "        })\n",
    "        \n",
    "    except AttributeError:\n",
    "        pass\n",
    "    \n",
    "# Create DataFrame\n",
    "ethereum_df = pd.DataFrame(ethereum_sentiments)\n",
    "\n",
    "# Reorder DataFrame columns\n",
    "cols = [\"date\", \"text\", \"compound\", \"positive\", \"negative\", \"neutral\"]\n",
    "ethereum_df = ethereum_df[cols]\n",
    "\n",
    "ethereum_df.head()"
   ]
  },
  {
   "cell_type": "code",
   "execution_count": 9,
   "metadata": {},
   "outputs": [
    {
     "data": {
      "text/html": [
       "<div>\n",
       "<style scoped>\n",
       "    .dataframe tbody tr th:only-of-type {\n",
       "        vertical-align: middle;\n",
       "    }\n",
       "\n",
       "    .dataframe tbody tr th {\n",
       "        vertical-align: top;\n",
       "    }\n",
       "\n",
       "    .dataframe thead th {\n",
       "        text-align: right;\n",
       "    }\n",
       "</style>\n",
       "<table border=\"1\" class=\"dataframe\">\n",
       "  <thead>\n",
       "    <tr style=\"text-align: right;\">\n",
       "      <th></th>\n",
       "      <th>compound</th>\n",
       "      <th>positive</th>\n",
       "      <th>negative</th>\n",
       "      <th>neutral</th>\n",
       "    </tr>\n",
       "  </thead>\n",
       "  <tbody>\n",
       "    <tr>\n",
       "      <th>count</th>\n",
       "      <td>20.000000</td>\n",
       "      <td>20.000000</td>\n",
       "      <td>20.000000</td>\n",
       "      <td>20.00000</td>\n",
       "    </tr>\n",
       "    <tr>\n",
       "      <th>mean</th>\n",
       "      <td>0.195090</td>\n",
       "      <td>0.048400</td>\n",
       "      <td>0.003150</td>\n",
       "      <td>0.94845</td>\n",
       "    </tr>\n",
       "    <tr>\n",
       "      <th>std</th>\n",
       "      <td>0.288628</td>\n",
       "      <td>0.064743</td>\n",
       "      <td>0.014087</td>\n",
       "      <td>0.06379</td>\n",
       "    </tr>\n",
       "    <tr>\n",
       "      <th>min</th>\n",
       "      <td>-0.273200</td>\n",
       "      <td>0.000000</td>\n",
       "      <td>0.000000</td>\n",
       "      <td>0.80100</td>\n",
       "    </tr>\n",
       "    <tr>\n",
       "      <th>25%</th>\n",
       "      <td>0.000000</td>\n",
       "      <td>0.000000</td>\n",
       "      <td>0.000000</td>\n",
       "      <td>0.89650</td>\n",
       "    </tr>\n",
       "    <tr>\n",
       "      <th>50%</th>\n",
       "      <td>0.000000</td>\n",
       "      <td>0.000000</td>\n",
       "      <td>0.000000</td>\n",
       "      <td>1.00000</td>\n",
       "    </tr>\n",
       "    <tr>\n",
       "      <th>75%</th>\n",
       "      <td>0.481000</td>\n",
       "      <td>0.103500</td>\n",
       "      <td>0.000000</td>\n",
       "      <td>1.00000</td>\n",
       "    </tr>\n",
       "    <tr>\n",
       "      <th>max</th>\n",
       "      <td>0.755800</td>\n",
       "      <td>0.199000</td>\n",
       "      <td>0.063000</td>\n",
       "      <td>1.00000</td>\n",
       "    </tr>\n",
       "  </tbody>\n",
       "</table>\n",
       "</div>"
      ],
      "text/plain": [
       "        compound   positive   negative   neutral\n",
       "count  20.000000  20.000000  20.000000  20.00000\n",
       "mean    0.195090   0.048400   0.003150   0.94845\n",
       "std     0.288628   0.064743   0.014087   0.06379\n",
       "min    -0.273200   0.000000   0.000000   0.80100\n",
       "25%     0.000000   0.000000   0.000000   0.89650\n",
       "50%     0.000000   0.000000   0.000000   1.00000\n",
       "75%     0.481000   0.103500   0.000000   1.00000\n",
       "max     0.755800   0.199000   0.063000   1.00000"
      ]
     },
     "execution_count": 9,
     "metadata": {},
     "output_type": "execute_result"
    }
   ],
   "source": [
    "# Describe the Bitcoin Sentiment\n",
    "bitcoin_df.describe()"
   ]
  },
  {
   "cell_type": "code",
   "execution_count": 10,
   "metadata": {},
   "outputs": [
    {
     "data": {
      "text/html": [
       "<div>\n",
       "<style scoped>\n",
       "    .dataframe tbody tr th:only-of-type {\n",
       "        vertical-align: middle;\n",
       "    }\n",
       "\n",
       "    .dataframe tbody tr th {\n",
       "        vertical-align: top;\n",
       "    }\n",
       "\n",
       "    .dataframe thead th {\n",
       "        text-align: right;\n",
       "    }\n",
       "</style>\n",
       "<table border=\"1\" class=\"dataframe\">\n",
       "  <thead>\n",
       "    <tr style=\"text-align: right;\">\n",
       "      <th></th>\n",
       "      <th>compound</th>\n",
       "      <th>positive</th>\n",
       "      <th>negative</th>\n",
       "      <th>neutral</th>\n",
       "    </tr>\n",
       "  </thead>\n",
       "  <tbody>\n",
       "    <tr>\n",
       "      <th>count</th>\n",
       "      <td>20.000000</td>\n",
       "      <td>20.000000</td>\n",
       "      <td>20.000000</td>\n",
       "      <td>20.000000</td>\n",
       "    </tr>\n",
       "    <tr>\n",
       "      <th>mean</th>\n",
       "      <td>0.285405</td>\n",
       "      <td>0.062800</td>\n",
       "      <td>0.002400</td>\n",
       "      <td>0.934800</td>\n",
       "    </tr>\n",
       "    <tr>\n",
       "      <th>std</th>\n",
       "      <td>0.313684</td>\n",
       "      <td>0.074233</td>\n",
       "      <td>0.010733</td>\n",
       "      <td>0.077756</td>\n",
       "    </tr>\n",
       "    <tr>\n",
       "      <th>min</th>\n",
       "      <td>0.000000</td>\n",
       "      <td>0.000000</td>\n",
       "      <td>0.000000</td>\n",
       "      <td>0.779000</td>\n",
       "    </tr>\n",
       "    <tr>\n",
       "      <th>25%</th>\n",
       "      <td>0.000000</td>\n",
       "      <td>0.000000</td>\n",
       "      <td>0.000000</td>\n",
       "      <td>0.902500</td>\n",
       "    </tr>\n",
       "    <tr>\n",
       "      <th>50%</th>\n",
       "      <td>0.180600</td>\n",
       "      <td>0.036000</td>\n",
       "      <td>0.000000</td>\n",
       "      <td>0.964000</td>\n",
       "    </tr>\n",
       "    <tr>\n",
       "      <th>75%</th>\n",
       "      <td>0.530600</td>\n",
       "      <td>0.097500</td>\n",
       "      <td>0.000000</td>\n",
       "      <td>1.000000</td>\n",
       "    </tr>\n",
       "    <tr>\n",
       "      <th>max</th>\n",
       "      <td>0.822500</td>\n",
       "      <td>0.221000</td>\n",
       "      <td>0.048000</td>\n",
       "      <td>1.000000</td>\n",
       "    </tr>\n",
       "  </tbody>\n",
       "</table>\n",
       "</div>"
      ],
      "text/plain": [
       "        compound   positive   negative    neutral\n",
       "count  20.000000  20.000000  20.000000  20.000000\n",
       "mean    0.285405   0.062800   0.002400   0.934800\n",
       "std     0.313684   0.074233   0.010733   0.077756\n",
       "min     0.000000   0.000000   0.000000   0.779000\n",
       "25%     0.000000   0.000000   0.000000   0.902500\n",
       "50%     0.180600   0.036000   0.000000   0.964000\n",
       "75%     0.530600   0.097500   0.000000   1.000000\n",
       "max     0.822500   0.221000   0.048000   1.000000"
      ]
     },
     "execution_count": 10,
     "metadata": {},
     "output_type": "execute_result"
    }
   ],
   "source": [
    "# Describe the Ethereum Sentiment\n",
    "ethereum_df.describe()"
   ]
  },
  {
   "cell_type": "markdown",
   "metadata": {},
   "source": [
    "### Questions:\n",
    "\n",
    "Q: Which coin had the highest mean positive score?\n",
    "\n",
    "A: Ethereum had the higher mean score at 0.051750. Bitcoin was only at 0.048400 mean positive score. \n",
    "\n",
    "Q: Which coin had the highest compound score?\n",
    "\n",
    "A: Ethereum had the higher mean compound score at 0.244525. Bitcoin was only at 0.195090 mean compound score. \n",
    "\n",
    "Q. Which coin had the highest positive score?\n",
    "\n",
    "A: Ethereum had the highest positive score."
   ]
  },
  {
   "cell_type": "markdown",
   "metadata": {},
   "source": [
    "---"
   ]
  },
  {
   "cell_type": "markdown",
   "metadata": {},
   "source": [
    "## 2. Natural Language Processing\n",
    "---\n",
    "###   Tokenizer\n",
    "\n",
    "In this section, you will use NLTK and Python to tokenize the text for each coin. Be sure to:\n",
    "1. Lowercase each word.\n",
    "2. Remove Punctuation.\n",
    "3. Remove Stopwords."
   ]
  },
  {
   "cell_type": "code",
   "execution_count": 11,
   "metadata": {},
   "outputs": [
    {
     "name": "stderr",
     "output_type": "stream",
     "text": [
      "[nltk_data] Downloading package wordnet to\n",
      "[nltk_data]     C:\\Users\\benja\\AppData\\Roaming\\nltk_data...\n",
      "[nltk_data]   Package wordnet is already up-to-date!\n",
      "[nltk_data] Downloading package punkt to\n",
      "[nltk_data]     C:\\Users\\benja\\AppData\\Roaming\\nltk_data...\n",
      "[nltk_data]   Package punkt is already up-to-date!\n",
      "[nltk_data] Downloading package stopwords to\n",
      "[nltk_data]     C:\\Users\\benja\\AppData\\Roaming\\nltk_data...\n",
      "[nltk_data]   Package stopwords is already up-to-date!\n"
     ]
    },
    {
     "data": {
      "text/plain": [
       "True"
      ]
     },
     "execution_count": 11,
     "metadata": {},
     "output_type": "execute_result"
    }
   ],
   "source": [
    "from nltk.tokenize import word_tokenize, sent_tokenize\n",
    "from nltk.corpus import stopwords\n",
    "from nltk.corpus import reuters, stopwords\n",
    "from nltk.tokenize import word_tokenize, sent_tokenize\n",
    "from nltk.stem import WordNetLemmatizer, PorterStemmer\n",
    "from string import punctuation\n",
    "import re\n",
    "\n",
    "import nltk\n",
    "nltk.download('wordnet')\n",
    "nltk.download('punkt')\n",
    "nltk.download('stopwords')"
   ]
  },
  {
   "cell_type": "code",
   "execution_count": 12,
   "metadata": {},
   "outputs": [],
   "source": [
    "# Instantiate the lemmatizer\n",
    "lemmatizer = WordNetLemmatizer()\n",
    "\n",
    "# Create a list of stopwords\n",
    "# Instantiate the list of stopwords, then convert all to lowercase\n",
    "sw = set(stopwords.words('english'))\n",
    "\n"
   ]
  },
  {
   "cell_type": "code",
   "execution_count": 13,
   "metadata": {},
   "outputs": [],
   "source": [
    "# Complete the tokenizer function\n",
    "# Expand the default stopwords list if necessary\n",
    "\n",
    "def tokenizer(text):\n",
    "    \"\"\"Tokenizes text.\"\"\"\n",
    "    \n",
    "    # Remove the punctuation from text\n",
    "    words = nltk.word_tokenize(text)\n",
    "    words = [word.lower() for word in words if word.isalpha()]\n",
    "    str_words = ' '.join(str(e) for e in words)\n",
    "    # Create custom stopwords\n",
    "    sw_addons = {'said', 'sent', 'found', 'including', 'today', 'announced', 'week', 'basically', 'also', 'chars', '\\r\\n'}\n",
    "\n",
    "    # Create a tokenized list of the words\n",
    "    doc = nlp(str_words)\n",
    "    doc_words = ' '.join(str(e) for e in doc)\n",
    "    tok = word_tokenize(doc_words)\n",
    "    result = [word.lower() for word in tok]\n",
    "    lemma_words = ' '.join(str(e) for e in result)\n",
    "    # Lemmatize words into root words\n",
    "    lemma_result = lemmatizer.lemmatize(lemma_words)\n",
    "   \n",
    "    # Convert the words to lowercase\n",
    "    lower_result = [lemma_result.lower() for word in lemma_result]\n",
    "    re_words = ' '.join(str(e) for e in lower_result)\n",
    "    # Remove the stop words\n",
    "    re_words = word_tokenize(re_words)\n",
    "    tokens = [word.lower() for word in re_words if word.lower() not in sw.union(sw_addons)]\n",
    "    \n",
    "    \n",
    "    return tokens"
   ]
  },
  {
   "cell_type": "code",
   "execution_count": 14,
   "metadata": {},
   "outputs": [],
   "source": [
    "#text1 = bitcoin_df[\"text\"][0]\n",
    "\n",
    "#results = tokenizer(text1)\n",
    "#print(results)"
   ]
  },
  {
   "cell_type": "code",
   "execution_count": 15,
   "metadata": {},
   "outputs": [
    {
     "data": {
      "text/html": [
       "<div>\n",
       "<style scoped>\n",
       "    .dataframe tbody tr th:only-of-type {\n",
       "        vertical-align: middle;\n",
       "    }\n",
       "\n",
       "    .dataframe tbody tr th {\n",
       "        vertical-align: top;\n",
       "    }\n",
       "\n",
       "    .dataframe thead th {\n",
       "        text-align: right;\n",
       "    }\n",
       "</style>\n",
       "<table border=\"1\" class=\"dataframe\">\n",
       "  <thead>\n",
       "    <tr style=\"text-align: right;\">\n",
       "      <th></th>\n",
       "      <th>date</th>\n",
       "      <th>text</th>\n",
       "      <th>compound</th>\n",
       "      <th>positive</th>\n",
       "      <th>negative</th>\n",
       "      <th>neutral</th>\n",
       "      <th>tokens</th>\n",
       "    </tr>\n",
       "  </thead>\n",
       "  <tbody>\n",
       "    <tr>\n",
       "      <th>0</th>\n",
       "      <td>2021-11-05</td>\n",
       "      <td>A similar hoax earlier this year tied Walmart ...</td>\n",
       "      <td>-0.2732</td>\n",
       "      <td>0.000</td>\n",
       "      <td>0.063</td>\n",
       "      <td>0.937</td>\n",
       "      <td>[similar, hoax, earlier, year, tied, walmart, ...</td>\n",
       "    </tr>\n",
       "    <tr>\n",
       "      <th>1</th>\n",
       "      <td>2021-10-10</td>\n",
       "      <td>Specifically, why did someone make a massive p...</td>\n",
       "      <td>0.5461</td>\n",
       "      <td>0.121</td>\n",
       "      <td>0.000</td>\n",
       "      <td>0.879</td>\n",
       "      <td>[specifically, someone, make, massive, purchas...</td>\n",
       "    </tr>\n",
       "    <tr>\n",
       "      <th>2</th>\n",
       "      <td>2021-10-28</td>\n",
       "      <td>Theres a big new presence slurping up power fr...</td>\n",
       "      <td>0.3612</td>\n",
       "      <td>0.096</td>\n",
       "      <td>0.000</td>\n",
       "      <td>0.904</td>\n",
       "      <td>[big, new, presence, slurping, power, grid, gr...</td>\n",
       "    </tr>\n",
       "    <tr>\n",
       "      <th>3</th>\n",
       "      <td>2021-10-26</td>\n",
       "      <td>For all the talk of democratizing finance, the...</td>\n",
       "      <td>0.0000</td>\n",
       "      <td>0.000</td>\n",
       "      <td>0.000</td>\n",
       "      <td>1.000</td>\n",
       "      <td>[talk, democratizing, finance, vast, majority,...</td>\n",
       "    </tr>\n",
       "    <tr>\n",
       "      <th>4</th>\n",
       "      <td>2021-10-21</td>\n",
       "      <td>Representation of cryptocurrency Bitcoin is pl...</td>\n",
       "      <td>0.0000</td>\n",
       "      <td>0.000</td>\n",
       "      <td>0.000</td>\n",
       "      <td>1.000</td>\n",
       "      <td>[representation, cryptocurrency, bitcoin, plac...</td>\n",
       "    </tr>\n",
       "  </tbody>\n",
       "</table>\n",
       "</div>"
      ],
      "text/plain": [
       "         date                                               text  compound  \\\n",
       "0  2021-11-05  A similar hoax earlier this year tied Walmart ...   -0.2732   \n",
       "1  2021-10-10  Specifically, why did someone make a massive p...    0.5461   \n",
       "2  2021-10-28  Theres a big new presence slurping up power fr...    0.3612   \n",
       "3  2021-10-26  For all the talk of democratizing finance, the...    0.0000   \n",
       "4  2021-10-21  Representation of cryptocurrency Bitcoin is pl...    0.0000   \n",
       "\n",
       "   positive  negative  neutral  \\\n",
       "0     0.000     0.063    0.937   \n",
       "1     0.121     0.000    0.879   \n",
       "2     0.096     0.000    0.904   \n",
       "3     0.000     0.000    1.000   \n",
       "4     0.000     0.000    1.000   \n",
       "\n",
       "                                              tokens  \n",
       "0  [similar, hoax, earlier, year, tied, walmart, ...  \n",
       "1  [specifically, someone, make, massive, purchas...  \n",
       "2  [big, new, presence, slurping, power, grid, gr...  \n",
       "3  [talk, democratizing, finance, vast, majority,...  \n",
       "4  [representation, cryptocurrency, bitcoin, plac...  "
      ]
     },
     "execution_count": 15,
     "metadata": {},
     "output_type": "execute_result"
    }
   ],
   "source": [
    "# Create a new tokens column for Bitcoin\n",
    "bitcoin_df[\"tokens\"] = bitcoin_df[\"text\"].apply(tokenizer)\n",
    "bitcoin_df.head()"
   ]
  },
  {
   "cell_type": "code",
   "execution_count": 16,
   "metadata": {
    "scrolled": true
   },
   "outputs": [
    {
     "data": {
      "text/html": [
       "<div>\n",
       "<style scoped>\n",
       "    .dataframe tbody tr th:only-of-type {\n",
       "        vertical-align: middle;\n",
       "    }\n",
       "\n",
       "    .dataframe tbody tr th {\n",
       "        vertical-align: top;\n",
       "    }\n",
       "\n",
       "    .dataframe thead th {\n",
       "        text-align: right;\n",
       "    }\n",
       "</style>\n",
       "<table border=\"1\" class=\"dataframe\">\n",
       "  <thead>\n",
       "    <tr style=\"text-align: right;\">\n",
       "      <th></th>\n",
       "      <th>date</th>\n",
       "      <th>text</th>\n",
       "      <th>compound</th>\n",
       "      <th>positive</th>\n",
       "      <th>negative</th>\n",
       "      <th>neutral</th>\n",
       "      <th>tokens</th>\n",
       "    </tr>\n",
       "  </thead>\n",
       "  <tbody>\n",
       "    <tr>\n",
       "      <th>0</th>\n",
       "      <td>2021-10-16</td>\n",
       "      <td>A new cross-chain bridge is currently connecte...</td>\n",
       "      <td>0.0000</td>\n",
       "      <td>0.000</td>\n",
       "      <td>0.0</td>\n",
       "      <td>1.000</td>\n",
       "      <td>[new, bridge, currently, connected, ethereum, ...</td>\n",
       "    </tr>\n",
       "    <tr>\n",
       "      <th>1</th>\n",
       "      <td>2021-10-14</td>\n",
       "      <td>Mark Cuban has some advice for people who are ...</td>\n",
       "      <td>0.0000</td>\n",
       "      <td>0.000</td>\n",
       "      <td>0.0</td>\n",
       "      <td>1.000</td>\n",
       "      <td>[mark, cuban, advice, people, new, investing, ...</td>\n",
       "    </tr>\n",
       "    <tr>\n",
       "      <th>2</th>\n",
       "      <td>2021-11-05</td>\n",
       "      <td>Ethereum and bitcoin are the two biggest crypt...</td>\n",
       "      <td>0.4588</td>\n",
       "      <td>0.094</td>\n",
       "      <td>0.0</td>\n",
       "      <td>0.906</td>\n",
       "      <td>[ethereum, bitcoin, two, biggest, cryptocurren...</td>\n",
       "    </tr>\n",
       "    <tr>\n",
       "      <th>3</th>\n",
       "      <td>2021-11-01</td>\n",
       "      <td>Elon Musk\\r\\npicture alliance / Getty Images\\r...</td>\n",
       "      <td>0.5267</td>\n",
       "      <td>0.093</td>\n",
       "      <td>0.0</td>\n",
       "      <td>0.907</td>\n",
       "      <td>[elon, musk, picture, alliance, getty, images,...</td>\n",
       "    </tr>\n",
       "    <tr>\n",
       "      <th>4</th>\n",
       "      <td>2021-11-01</td>\n",
       "      <td>Cryptocurrency and business continuity line im...</td>\n",
       "      <td>0.4588</td>\n",
       "      <td>0.097</td>\n",
       "      <td>0.0</td>\n",
       "      <td>0.903</td>\n",
       "      <td>[cryptocurrency, business, continuity, line, i...</td>\n",
       "    </tr>\n",
       "  </tbody>\n",
       "</table>\n",
       "</div>"
      ],
      "text/plain": [
       "         date                                               text  compound  \\\n",
       "0  2021-10-16  A new cross-chain bridge is currently connecte...    0.0000   \n",
       "1  2021-10-14  Mark Cuban has some advice for people who are ...    0.0000   \n",
       "2  2021-11-05  Ethereum and bitcoin are the two biggest crypt...    0.4588   \n",
       "3  2021-11-01  Elon Musk\\r\\npicture alliance / Getty Images\\r...    0.5267   \n",
       "4  2021-11-01  Cryptocurrency and business continuity line im...    0.4588   \n",
       "\n",
       "   positive  negative  neutral  \\\n",
       "0     0.000       0.0    1.000   \n",
       "1     0.000       0.0    1.000   \n",
       "2     0.094       0.0    0.906   \n",
       "3     0.093       0.0    0.907   \n",
       "4     0.097       0.0    0.903   \n",
       "\n",
       "                                              tokens  \n",
       "0  [new, bridge, currently, connected, ethereum, ...  \n",
       "1  [mark, cuban, advice, people, new, investing, ...  \n",
       "2  [ethereum, bitcoin, two, biggest, cryptocurren...  \n",
       "3  [elon, musk, picture, alliance, getty, images,...  \n",
       "4  [cryptocurrency, business, continuity, line, i...  "
      ]
     },
     "execution_count": 16,
     "metadata": {},
     "output_type": "execute_result"
    }
   ],
   "source": [
    "# Create a new tokens column for Bitcoin\n",
    "ethereum_df[\"tokens\"] = ethereum_df[\"text\"].apply(tokenizer)\n",
    "ethereum_df.head()"
   ]
  },
  {
   "cell_type": "markdown",
   "metadata": {},
   "source": [
    "---"
   ]
  },
  {
   "cell_type": "markdown",
   "metadata": {},
   "source": [
    "### NGrams and Frequency Analysis\n",
    "\n",
    "In this section you will look at the ngrams and word frequency for each coin. \n",
    "\n",
    "1. Use NLTK to produce the n-grams for N = 2. \n",
    "2. List the top 10 words for each coin. "
   ]
  },
  {
   "cell_type": "code",
   "execution_count": 17,
   "metadata": {},
   "outputs": [],
   "source": [
    "from collections import Counter\n",
    "from nltk import ngrams"
   ]
  },
  {
   "cell_type": "code",
   "execution_count": 18,
   "metadata": {},
   "outputs": [
    {
     "name": "stdout",
     "output_type": "stream",
     "text": [
      "{'similar': 188, 'hoax': 188, 'earlier': 188, 'year': 188, 'tied': 188, 'walmart': 188, 'litecoin': 188, 'buy': 188, 'something': 188, 'verge': 188, 'link': 188, 'vox': 188, 'media': 188, 'may': 188, 'earn': 188, 'commission': 188, 'see': 188, 'ethics': 188, 'statement': 188, 'photo': 188, 'illustration': 188, 'thiago': 188}\n"
     ]
    }
   ],
   "source": [
    "word_counts = Counter(bitcoin_df[\"tokens\"][0])\n",
    "print(dict(word_counts))"
   ]
  },
  {
   "cell_type": "code",
   "execution_count": 19,
   "metadata": {},
   "outputs": [
    {
     "data": {
      "text/plain": [
       "[(('reuters', 'bitcoin'), 17110),\n",
       " (('cryptocurrency', 'bitcoin'), 13688),\n",
       " (('illustration', 'taken'), 13688),\n",
       " (('oct', 'reuters'), 13688),\n",
       " (('bitcoin', 'seen'), 13688),\n",
       " (('representation', 'virtual'), 10266),\n",
       " (('virtual', 'cryptocurrency'), 10266),\n",
       " (('seen', 'picture'), 10266),\n",
       " (('picture', 'illustration'), 10266),\n",
       " (('taken', 'october'), 10266),\n",
       " (('bitcoin', 'hit'), 10266),\n",
       " (('kong', 'oct'), 6844),\n",
       " (('posted', 'bitcoin'), 6844),\n",
       " (('record', 'high'), 6844),\n",
       " (('hit', 'high'), 6844),\n",
       " (('via', 'getty'), 6844),\n",
       " (('getty', 'images'), 6844),\n",
       " (('trading', 'higher'), 6844),\n",
       " (('similar', 'hoax'), 3422),\n",
       " (('hoax', 'earlier'), 3422)]"
      ]
     },
     "execution_count": 19,
     "metadata": {},
     "output_type": "execute_result"
    }
   ],
   "source": [
    "# Generate the Bitcoin N-grams where N=2\n",
    "#str.cat() method takes all values and concatenate them into a single string \n",
    "btc_grams = ngrams(tokenizer(bitcoin_df[\"text\"].str.cat()), n=2)\n",
    "Counter(btc_grams).most_common(20)"
   ]
  },
  {
   "cell_type": "code",
   "execution_count": 20,
   "metadata": {},
   "outputs": [
    {
     "data": {
      "text/plain": [
       "[(('getty', 'images'), 10713),\n",
       " (('new', 'york'), 10713),\n",
       " (('bitcoin', 'ethereum'), 10713),\n",
       " (('rahul', 'rai'), 10713),\n",
       " (('elon', 'musk'), 7142),\n",
       " (('cryptocurrency', 'exchange'), 7142),\n",
       " (('representations', 'cryptocurrencies'), 7142),\n",
       " (('ethereum', 'dogecoin'), 7142),\n",
       " (('illustration', 'taken'), 7142),\n",
       " (('taken', 'june'), 7142),\n",
       " (('new', 'bridge'), 3571),\n",
       " (('bridge', 'currently'), 3571),\n",
       " (('currently', 'connected'), 3571),\n",
       " (('connected', 'ethereum'), 3571),\n",
       " (('ethereum', 'bridge'), 3571),\n",
       " (('bridge', 'cardano'), 3571),\n",
       " (('cardano', 'public'), 3571),\n",
       " (('public', 'chains'), 3571),\n",
       " (('chains', 'come'), 3571),\n",
       " (('come', 'future'), 3571)]"
      ]
     },
     "execution_count": 20,
     "metadata": {},
     "output_type": "execute_result"
    }
   ],
   "source": [
    "# Generate the Ethereum N-grams where N=2\n",
    "#str.cat() method takes all values and concatenate them into a single string \n",
    "eth_grams = ngrams(tokenizer(ethereum_df[\"text\"].str.cat()), n=2)\n",
    "Counter(eth_grams).most_common(20)"
   ]
  },
  {
   "cell_type": "code",
   "execution_count": 21,
   "metadata": {},
   "outputs": [],
   "source": [
    "# Function token_count generates the top 10 words for a given coin\n",
    "def token_count(tokens, N=3):\n",
    "    \"\"\"Returns the top N tokens from the frequency count\"\"\"\n",
    "    return Counter(tokens).most_common(N)"
   ]
  },
  {
   "cell_type": "code",
   "execution_count": 22,
   "metadata": {},
   "outputs": [
    {
     "name": "stdout",
     "output_type": "stream",
     "text": [
      "[('bitcoin', 82128), ('reuters', 20532), ('illustration', 17110), ('new', 17110), ('taken', 17110), ('record', 17110), ('ether', 17110), ('representation', 13688), ('cryptocurrency', 13688), ('oct', 13688)]\n"
     ]
    }
   ],
   "source": [
    "# Use token_count to get the top 10 words for Bitcoin\n",
    "btc_all = tokenizer(bitcoin_df[\"text\"].str.cat())\n",
    "result_top10_btc = token_count(btc_all, 10)\n",
    "print(result_top10_btc)"
   ]
  },
  {
   "cell_type": "code",
   "execution_count": null,
   "metadata": {},
   "outputs": [],
   "source": [
    "# Use token_count to get the top 10 words for Ethereum\n",
    " \n",
    "eth_all = tokenizer(ethereum_df[\"text\"].str.cat())\n",
    "\n",
    "result_top10_eth = token_count(eth_all, 10)\n",
    "print(result_top10_eth)"
   ]
  },
  {
   "cell_type": "markdown",
   "metadata": {},
   "source": [
    "---"
   ]
  },
  {
   "cell_type": "markdown",
   "metadata": {},
   "source": [
    "### Word Clouds\n",
    "\n",
    "In this section, you will generate word clouds for each coin to summarize the news for each coin"
   ]
  },
  {
   "cell_type": "code",
   "execution_count": null,
   "metadata": {},
   "outputs": [],
   "source": [
    "from wordcloud import WordCloud\n",
    "import matplotlib.pyplot as plt\n",
    "plt.style.use('seaborn-whitegrid')\n",
    "import matplotlib as mpl\n",
    "mpl.rcParams['figure.figsize'] = [20.0, 10.0]"
   ]
  },
  {
   "cell_type": "code",
   "execution_count": null,
   "metadata": {},
   "outputs": [],
   "source": [
    "# Generate the Bitcoin word cloud\n",
    "# Create a string list of terms to generate the word cloud\n",
    "terms_list = str(result_top10_btc)\n",
    "\n",
    "# Create the word cloud\n",
    "wordcloud = WordCloud(colormap=\"RdYlBu\").generate(terms_list)\n",
    "plt.imshow(wordcloud)\n",
    "plt.axis(\"off\")\n",
    "fontdict = {\"fontsize\": 20, \"fontweight\": \"bold\"}\n",
    "plt.title(\"Money News Word Cloud\", fontdict=fontdict)\n",
    "plt.show()"
   ]
  },
  {
   "cell_type": "code",
   "execution_count": null,
   "metadata": {},
   "outputs": [],
   "source": [
    "# Generate the Ethereum word cloud\n",
    "terms_list = str(result_top10_eth)\n",
    "\n",
    "# Create the word cloud\n",
    "wordcloud = WordCloud(colormap=\"RdYlBu\").generate(terms_list)\n",
    "plt.imshow(wordcloud)\n",
    "plt.axis(\"off\")\n",
    "fontdict = {\"fontsize\": 20, \"fontweight\": \"bold\"}\n",
    "plt.title(\"Money News Word Cloud\", fontdict=fontdict)\n",
    "plt.show()"
   ]
  },
  {
   "cell_type": "markdown",
   "metadata": {},
   "source": [
    "---\n",
    "## 3. Named Entity Recognition\n",
    "\n",
    "In this section, you will build a named entity recognition model for both Bitcoin and Ethereum, then visualize the tags using SpaCy."
   ]
  },
  {
   "cell_type": "code",
   "execution_count": null,
   "metadata": {},
   "outputs": [],
   "source": [
    "import spacy\n",
    "from spacy import displacy"
   ]
  },
  {
   "cell_type": "code",
   "execution_count": null,
   "metadata": {},
   "outputs": [],
   "source": [
    "# Download the language model for SpaCy\n",
    "# !python -m spacy download en_core_web_sm"
   ]
  },
  {
   "cell_type": "code",
   "execution_count": null,
   "metadata": {},
   "outputs": [],
   "source": [
    "# Load the spaCy model\n",
    "nlp = spacy.load('en_core_web_sm')"
   ]
  },
  {
   "cell_type": "markdown",
   "metadata": {},
   "source": [
    "---\n",
    "### Bitcoin NER"
   ]
  },
  {
   "cell_type": "code",
   "execution_count": null,
   "metadata": {},
   "outputs": [],
   "source": [
    "#all of the Bitcoin text together\n",
    "all_btc_text = bitcoin_df[\"text\"].str.cat()\n"
   ]
  },
  {
   "cell_type": "code",
   "execution_count": null,
   "metadata": {},
   "outputs": [],
   "source": [
    "# Run the NER processor on all of the text\n",
    "# Set article to be analyzed with spaCy\n",
    "doc = nlp(all_btc_text)\n",
    "# Add a title to the document \n",
    "doc.user_data[\"title\"] = \"Title: Bitcoin NER\"\n",
    " \n",
    "\n",
    "# Render NER visualization with displacy\n",
    "displacy.render(doc, style='ent')"
   ]
  },
  {
   "cell_type": "code",
   "execution_count": null,
   "metadata": {},
   "outputs": [],
   "source": [
    "# List all Entities\n",
    "for ent in doc.ents:\n",
    "    print(ent.text + ':   ' + ent.label_)"
   ]
  },
  {
   "cell_type": "code",
   "execution_count": null,
   "metadata": {
    "scrolled": false
   },
   "outputs": [],
   "source": [
    "from IPython.display import Image\n",
    "Image(filename='BTC_NER.JPG') "
   ]
  },
  {
   "cell_type": "markdown",
   "metadata": {},
   "source": [
    "---"
   ]
  },
  {
   "cell_type": "markdown",
   "metadata": {},
   "source": [
    "### Ethereum NER"
   ]
  },
  {
   "cell_type": "code",
   "execution_count": null,
   "metadata": {},
   "outputs": [],
   "source": [
    "#all of the Ethereum text together\n",
    "all_eth_text = ethereum_df[\"text\"].str.cat()\n",
    "\n",
    "\n",
    "#commented out for testing purposes \n",
    "#all_eth_text"
   ]
  },
  {
   "cell_type": "code",
   "execution_count": null,
   "metadata": {},
   "outputs": [],
   "source": [
    "# Run the NER processor on all of the text\n",
    "# Set article to be analyzed with spaCy\n",
    "doc_eth = nlp(all_eth_text)\n",
    "\n",
    "# Add a title to the document\n",
    "doc_eth.user_data[\"title\"] = \"Title: Ethereum NER\"\n",
    " \n",
    "# Render the visualization\n",
    "# Render NER visualization with displacy\n",
    "displacy.render(doc_eth, style='ent')\n",
    "\n",
    "\n"
   ]
  },
  {
   "cell_type": "code",
   "execution_count": null,
   "metadata": {},
   "outputs": [],
   "source": [
    "from IPython.display import Image\n",
    "Image(filename='ETH_NER.JPG') "
   ]
  },
  {
   "cell_type": "code",
   "execution_count": null,
   "metadata": {},
   "outputs": [],
   "source": [
    "# List all Entities\n",
    "for ent in doc_eth.ents:\n",
    "    print(ent.text + ':   ' + ent.label_)"
   ]
  },
  {
   "cell_type": "markdown",
   "metadata": {},
   "source": [
    "---"
   ]
  }
 ],
 "metadata": {
  "file_extension": ".py",
  "kernelspec": {
   "display_name": "Python 3 (ipykernel)",
   "language": "python",
   "name": "python3"
  },
  "language_info": {
   "codemirror_mode": {
    "name": "ipython",
    "version": 3
   },
   "file_extension": ".py",
   "mimetype": "text/x-python",
   "name": "python",
   "nbconvert_exporter": "python",
   "pygments_lexer": "ipython3",
   "version": "3.8.5"
  },
  "mimetype": "text/x-python",
  "name": "python",
  "npconvert_exporter": "python",
  "pygments_lexer": "ipython3",
  "version": 3
 },
 "nbformat": 4,
 "nbformat_minor": 4
}
